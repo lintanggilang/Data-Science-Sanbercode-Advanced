{
  "nbformat": 4,
  "nbformat_minor": 0,
  "metadata": {
    "colab": {
      "name": "Untitled2.ipynb",
      "provenance": []
    },
    "kernelspec": {
      "name": "python3",
      "display_name": "Python 3"
    }
  },
  "cells": [
    {
      "cell_type": "code",
      "metadata": {
        "id": "Skwjbsk0bdRI",
        "colab_type": "code",
        "colab": {}
      },
      "source": [
        "from urllib.request import urlopen\n",
        "from bs4 import BeautifulSoup"
      ],
      "execution_count": 1,
      "outputs": []
    },
    {
      "cell_type": "code",
      "metadata": {
        "id": "CA5zrS9PbeqB",
        "colab_type": "code",
        "colab": {}
      },
      "source": [
        "alamat = \"https://blog.sanbercode.com/\"\n",
        "html = urlopen(alamat)\n",
        "data = BeautifulSoup(html, 'html.parser')"
      ],
      "execution_count": 2,
      "outputs": []
    },
    {
      "cell_type": "code",
      "metadata": {
        "id": "j8Mrj_rMbiqP",
        "colab_type": "code",
        "colab": {}
      },
      "source": [
        "items = data.findAll(\"a\", {\"class\":\"text-dark\"})"
      ],
      "execution_count": 3,
      "outputs": []
    },
    {
      "cell_type": "code",
      "metadata": {
        "id": "cbqN4bEgbtHl",
        "colab_type": "code",
        "colab": {
          "base_uri": "https://localhost:8080/",
          "height": 265
        },
        "outputId": "1951aefb-cb78-417b-dcc8-03fdda24620c"
      },
      "source": [
        "print (items)\n",
        "print (len(items))"
      ],
      "execution_count": 4,
      "outputs": [
        {
          "output_type": "stream",
          "text": [
            "[<a class=\"text-dark\" href=\"https://blog.sanbercode.com/mengenal-dunia-programming/\">\n",
            "                Mengenal dunia Programming</a>, <a class=\"text-dark\" href=\"https://blog.sanbercode.com/implementasi-debugging-tools-telescope-di-laravel/\">\n",
            "                Implementasi Debugging Tools Telescope di Laravel</a>, <a class=\"text-dark\" href=\"https://blog.sanbercode.com/facebook-login-tutorial-dengan-laravel-5-7-dan-socialite/\">\n",
            "                Facebook Login Tutorial dengan Laravel 5.7 dan Socialite</a>, <a class=\"text-dark\" href=\"https://blog.sanbercode.com/agile-software-development-sebuah-pengenalan/\">\n",
            "                Agile Software Development, Sebuah Pengenalan</a>, <a class=\"text-dark\" href=\"https://blog.sanbercode.com/knowledge-management-apa-sih/\">\n",
            "                Knowledge Management, Apa sih?</a>, <a class=\"text-dark\" href=\"https://blog.sanbercode.com/server-upload-file-ke-google-drive-via-command-line/\">\n",
            "                Server upload file ke google drive via command line</a>, <a class=\"text-dark\" href=\"https://blog.sanbercode.com/mockup-ui/\">\n",
            "                Mockup UI</a>, <a alt=\"View all posts in Backend\" class=\"text-dark\" href=\"https://blog.sanbercode.com/category/backend/\">Backend</a>, <a alt=\"View all posts in Devops\" class=\"text-dark\" href=\"https://blog.sanbercode.com/category/devops/\">Devops</a>, <a alt=\"View all posts in Frontend\" class=\"text-dark\" href=\"https://blog.sanbercode.com/category/frontend/\">Frontend</a>, <a alt=\"View all posts in Info\" class=\"text-dark\" href=\"https://blog.sanbercode.com/category/info/\">Info</a>, <a alt=\"View all posts in Management and Support\" class=\"text-dark\" href=\"https://blog.sanbercode.com/category/management-and-support/\">Management and Support</a>, <a class=\"text-dark\" href=\"https://blog.sanbercode.com/server-upload-file-ke-google-drive-via-command-line/\">\n",
            "                        Server upload file ke google drive via command line</a>, <a class=\"text-dark\" href=\"https://blog.sanbercode.com/telegram-notification-channel-via-laravel-5-8/\">\n",
            "                        Telegram Notification Channel via Laravel 5.8</a>, <a class=\"text-dark\" href=\"https://blog.sanbercode.com/mengenal-dunia-programming/\">\n",
            "                        Mengenal dunia Programming</a>, <a class=\"text-dark\" href=\"https://blog.sanbercode.com/mockup-ui/\">\n",
            "                        Mockup UI</a>, <a class=\"text-dark\" href=\"https://blog.sanbercode.com/knowledge-management-apa-sih/\">\n",
            "                        Knowledge Management, Apa sih?</a>]\n",
            "17\n"
          ],
          "name": "stdout"
        }
      ]
    },
    {
      "cell_type": "code",
      "metadata": {
        "id": "UQ_A_GOlbx85",
        "colab_type": "code",
        "colab": {}
      },
      "source": [
        ""
      ],
      "execution_count": null,
      "outputs": []
    },
    {
      "cell_type": "code",
      "metadata": {
        "id": "uRqfQmS7eDUF",
        "colab_type": "code",
        "colab": {
          "base_uri": "https://localhost:8080/",
          "height": 50
        },
        "outputId": "a729d0b8-eca8-4c55-c929-610f51899669"
      },
      "source": [
        "items = data.findAll(\"a\", {\"class\":\"text-dark\"})[0]\n",
        "print (items)"
      ],
      "execution_count": 5,
      "outputs": [
        {
          "output_type": "stream",
          "text": [
            "<a class=\"text-dark\" href=\"https://blog.sanbercode.com/mengenal-dunia-programming/\">\n",
            "                Mengenal dunia Programming</a>\n"
          ],
          "name": "stdout"
        }
      ]
    },
    {
      "cell_type": "code",
      "metadata": {
        "id": "bUZRKBpeeGQo",
        "colab_type": "code",
        "colab": {}
      },
      "source": [
        ""
      ],
      "execution_count": null,
      "outputs": []
    }
  ]
}